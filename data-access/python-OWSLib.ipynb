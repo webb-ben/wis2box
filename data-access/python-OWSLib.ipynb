{
 "cells": [
  {
   "cell_type": "markdown",
   "id": "473fea8a-ad1b-48f1-b84a-c6c2cbf36e1d",
   "metadata": {},
   "source": [
    "# Using Python and OWSLib"
   ]
  },
  {
   "cell_type": "markdown",
   "id": "7b7ceb09-3086-4f01-b6fc-91b95de88d47",
   "metadata": {},
   "source": [
    "[OWSLib](https://geopython.github.io/OWSLib) is a Python package which provides Pythonic access to OGC APIs and web services.  Let's see how easy it is to work with wis2box with standards-based tooling:"
   ]
  },
  {
   "cell_type": "code",
   "execution_count": 13,
   "id": "36a9be52-3fca-4fae-9757-99552a9d72d7",
   "metadata": {},
   "outputs": [],
   "source": [
    "from owslib.ogcapi.features import Features\n",
    "\n",
    "import pandas as pd\n",
    "\n",
    "def pretty_print(input):\n",
    "    print(json.dumps(input, indent=2))\n",
    "\n",
    "\n",
    "api = 'http://localhost:8999/pygeoapi'"
   ]
  },
  {
   "cell_type": "markdown",
   "id": "ae687310-f8ba-4242-b29d-8cc9ad23e343",
   "metadata": {},
   "source": [
    "Let's load the wis2box API into OWSLib and inspect some data"
   ]
  },
  {
   "cell_type": "code",
   "execution_count": 14,
   "id": "0762be2b-b605-43bf-a577-3087eb472685",
   "metadata": {},
   "outputs": [
    {
     "name": "stdout",
     "output_type": "stream",
     "text": [
      "This OGC API Features endpoint has 3 datasets\n",
      "Surface weather observations (hourly)\n",
      "Stations\n",
      "Discovery metadata\n",
      "id            object\n",
      "conformsTo    object\n",
      "type          object\n",
      "geometry      object\n",
      "properties    object\n",
      "dtype: object\n",
      "                                        id  \\\n",
      "0  WIGOS_0-454-2-AWSBALAKA_20220114T075500   \n",
      "1  WIGOS_0-454-2-AWSBALAKA_20220114T085500   \n",
      "2  WIGOS_0-454-2-AWSBALAKA_20220114T095500   \n",
      "\n",
      "                                          conformsTo     type  \\\n",
      "0  [http://www.opengis.net/spec/ogcapi-features-1...  Feature   \n",
      "1  [http://www.opengis.net/spec/ogcapi-features-1...  Feature   \n",
      "2  [http://www.opengis.net/spec/ogcapi-features-1...  Feature   \n",
      "\n",
      "                                            geometry  \\\n",
      "0  {'type': 'Point', 'coordinates': [34.97, -14.9...   \n",
      "1  {'type': 'Point', 'coordinates': [34.97, -14.9...   \n",
      "2  {'type': 'Point', 'coordinates': [34.97, -14.9...   \n",
      "\n",
      "                                          properties  \n",
      "0  {'identifier': 'WIGOS_0-454-2-AWSBALAKA_202201...  \n",
      "1  {'identifier': 'WIGOS_0-454-2-AWSBALAKA_202201...  \n",
      "2  {'identifier': 'WIGOS_0-454-2-AWSBALAKA_202201...  \n"
     ]
    }
   ],
   "source": [
    "oafeat = Features(api)\n",
    "\n",
    "collections = oafeat.collections()\n",
    "print(f'This OGC API Features endpoint has {len(collections[\"collections\"])} datasets')\n",
    "\n",
    "for dataset in collections['collections']:\n",
    "    print(dataset['title'])\n",
    "\n",
    "malawi_obs = oafeat.collection_items('data.core.observations-surface-land.mw.FWCL.landFixed')\n",
    "malawi_obs_df = pd.DataFrame(malawi_obs['features'])\n",
    "\n",
    "# then filter by station\n",
    "namitambo_obs = oafeat.collection_items('data.core.observations-surface-land.mw.FWCL.landFixed', wigos_station_identifier='0-454-2-AWSNAMITAMBO')\n",
    "namitambo_obs_df = pd.DataFrame(namitambo_obs['features'])\n",
    "print(malawi_obs_df.dtypes)\n",
    "print(malawi_obs_df.head(3))"
   ]
  }
 ],
 "metadata": {
  "kernelspec": {
   "display_name": "Python 3 (ipykernel)",
   "language": "python",
   "name": "python3"
  },
  "language_info": {
   "codemirror_mode": {
    "name": "ipython",
    "version": 3
   },
   "file_extension": ".py",
   "mimetype": "text/x-python",
   "name": "python",
   "nbconvert_exporter": "python",
   "pygments_lexer": "ipython3",
   "version": "3.7.4"
  }
 },
 "nbformat": 4,
 "nbformat_minor": 5
}
