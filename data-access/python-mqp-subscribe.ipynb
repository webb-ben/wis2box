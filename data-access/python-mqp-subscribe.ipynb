{
 "cells": [
  {
   "cell_type": "markdown",
   "id": "revised-permit",
   "metadata": {},
   "source": [
    "Python MQP Subscribe\n",
    "===================\n",
    "\n",
    "\n",
    "This example will use widely available and used python language and libraries to download some announcements, and then retrieve the corresponding data, using only the paho.mqtt.client library, in addition to standard libraries."
   ]
  },
  {
   "cell_type": "code",
   "execution_count": 1,
   "id": "dried-horizontal",
   "metadata": {},
   "outputs": [],
   "source": [
    "import json\n",
    "import paho.mqtt.client as mqtt\n",
    "import random\n",
    "import urllib\n",
    "import urllib.request\n",
    "\n",
    "\n",
    "host='localhost'\n",
    "user='wis2box'\n",
    "password='wis2box'\n",
    "\n",
    "r = random.Random()\n",
    "clientId='MyQueueName'+ f\"{r.randint(1,1000):04d}\"\n",
    "# number of messages to subscribe to.\n",
    "messageCount = 0\n",
    "messageCountMaximum = 5\n",
    "\n",
    "# maximum size of data download to print.\n",
    "sizeMaximumThreshold = 1023"
   ]
  },
  {
   "cell_type": "markdown",
   "id": "loose-blend",
   "metadata": {},
   "source": [
    "The above imports the modules we need. Assuming localhost is set up and is publishing messages. Message queueing protocols provide real-time notification about availability of products.\n",
    "\n",
    "The standard python library used to subscribe to messages is paho.mqtt.client. The library uses callbacks.\n",
    "\n",
    "The first callback needed is called when the connection is established,  which is when we need to subscribe to topics we are interested in (topics are:  'xpublic/#', where / is a topic separator and # is a wildcard for any tree of topics.\n",
    "\n",
    "The qos=1 refers to Quality of Service.  1 establishes that we want to receive messages at least once. qos==1 is recommended.\n",
    "\n",
    "messageCount is used to limit the length of the demonstration (otherwise infinite, as it is a continuous flow.)"
   ]
  },
  {
   "cell_type": "code",
   "execution_count": 2,
   "id": "weighted-swaziland",
   "metadata": {},
   "outputs": [],
   "source": [
    "def sub_connect(client, userdata, flags, rc, properties=None):\n",
    "    print( \"on connection to subscribe:\", mqtt.connack_string(rc) )\n",
    "    for s in [ \"xpublic/#\" ]: \n",
    "        client.subscribe( s , qos=1 )\n",
    "\n"
   ]
  },
  {
   "cell_type": "markdown",
   "id": "educational-visit",
   "metadata": {},
   "source": [
    "The second callback needed is called every time a message is received.\n",
    "The message is decoded and printed.  to keep the output short for the demonstration, we limit the subscriber to a few messages."
   ]
  },
  {
   "cell_type": "code",
   "execution_count": 3,
   "id": "domestic-spirituality",
   "metadata": {},
   "outputs": [],
   "source": [
    "def sub_message(client, userdata, msg):\n",
    "    \"\"\"\n",
    "      print messages received.  Exit on count received.\n",
    "    \"\"\"\n",
    "    global messageCount,messageCountMaximum\n",
    "\n",
    "    m = json.loads(msg.payload.decode('utf-8'))\n",
    "    print( f\"message {messageCount} received: {m}\" )\n",
    "    print( f\"message {messageCount} data: {getData(m)}\" )\n",
    "    messageCount += 1\n",
    "    if messageCount > messageCountMaximum:\n",
    "        client.disconnect()\n",
    "        client.loop_stop()\n"
   ]
  },
  {
   "cell_type": "markdown",
   "id": "brown-experience",
   "metadata": {},
   "source": [
    "The message handler above calls getData(). The messages themselves are usually announcements of data availability, but when data is small, they can include the data itself in the *content* field. Usually the message refer to the data using a link. Here is a routine to obtain the data given an announcement message:"
   ]
  },
  {
   "cell_type": "code",
   "execution_count": 4,
   "id": "comic-ottawa",
   "metadata": {},
   "outputs": [],
   "source": [
    "def getData(m, sizeMaximum=1000):\n",
    "    \"\"\"\n",
    "      given a message, return the data it refers to\n",
    "    \"\"\"\n",
    "    if 'size' in m and m['size'] > sizeMaximum:\n",
    "        return f\" data too large {m['size']} bytes\"\n",
    "    elif 'content' in m:\n",
    "        if m['content']['encoding'] == 'base64':\n",
    "            return b64decode(m['content']['value'])\n",
    "        else:\n",
    "            return m['content']['value'].encode('utf-8')\n",
    "    else:\n",
    "        url = m['baseUrl'] + '/' + m['relPath']       \n",
    "        with urllib.request.urlopen(url) as response:\n",
    "            return response.read()        "
   ]
  },
  {
   "cell_type": "markdown",
   "id": "wrapped-harmony",
   "metadata": {},
   "source": [
    "The mainline registers the callbacks, connects to the broker, and starts the event loop:"
   ]
  },
  {
   "cell_type": "code",
   "execution_count": 5,
   "id": "incoming-quick",
   "metadata": {},
   "outputs": [
    {
     "name": "stdout",
     "output_type": "stream",
     "text": [
      "on connection to subscribe: Connection Accepted.\n",
      "message 0 received: {'mode': '664', 'mtime': '20220223T151525.659682751', 'atime': '20220223T151525.659682751', 'pubTime': '20220223T151525.662858', 'baseUrl': 'http://localhost:8999/data/20220223T15', 'relPath': 'WIS/us/wallops_i__wallops_station_va/surface/miscellaneous/ca/SXCN40_KWAL_231515_cdc91d9dfcc6fc948913638a06ae8113.txt', 'integrity': {'method': 'md5', 'value': 'zckdnfzG/JSJE2OKBq6BEw=='}, 'size': 125}\n",
      "message 0 data: b'SXCN40 KWAL 231515\\r\\r\\n\\x1e44402EDE 054151505\":PC 15 #15 275.8 275.8 275.8 275.8 :TA 15 #60 -28.8 :VB 15 #60 12.3  34-0NN 116W\\r\\r\\n\\x03'\n",
      "message 1 received: {'mode': '664', 'mtime': '20220223T151525.671682835', 'atime': '20220223T151525.671682835', 'pubTime': '20220223T151525.674311', 'baseUrl': 'http://localhost:8999/data/20220223T15', 'relPath': 'WIS/us/wallops_i__wallops_station_va/surface/miscellaneous/SXXX50_KWAL_231515_f893b48ff9e39474d79cd7b0608f8839.txt', 'integrity': {'method': 'md5', 'value': '+JO0j/njlHTXnNewYI+IOQ=='}, 'size': 112}\n",
      "message 1 data: b'SXXX50 KWAL 231515\\r\\r\\n\\x1e2219963E 054151510bB1OHoDHoDHoDHoDHoDHoDHoDHoD@@@@@@@@@@@@@@@@@@@@@@@@@QjB 46-0NN 137E\\r\\r\\n\\x03'\n",
      "message 2 received: {'atime': '20220223T151531.0797269344', 'mtime': '20220223T151531.0797269344', 'mode': '664', 'pubTime': '20220223T151531.084807', 'baseUrl': 'http://localhost:8999/data/20220223T15', 'relPath': 'WIS/us/wallops_i__wallops_station_va/surface/hydrological/river/SRNE20_KWAL_231515_1210060b016538d05fc15cc3919ba441.txt', 'integrity': {'method': 'md5', 'value': 'EhAGCwFlONBfwVzDkZukQQ=='}, 'size': 169}\n",
      "message 2 data: b'SRNE20 KWAL 231515\\r\\r\\n\\x1eDD2C81D6 054151513bB1O@Uj@Uk@Um@Ul@U{@U|@U|@U}??|??|??|??|Nw@NxHNw[NxR@Vk@Vj@Vj@Vk@VO@Vw@XE@Wb@Iu@Iu@It@Iu@Cj@Cj@Cp@C{@E]@ER@EX@E[N 39+0NN  70W\\r\\r\\n\\x03'\n",
      "message 3 received: {'atime': '20220223T151531.0557267666', 'mtime': '20220223T151531.0557267666', 'mode': '664', 'pubTime': '20220223T151531.060087', 'baseUrl': 'http://localhost:8999/data/20220223T15', 'relPath': 'WIS/us/wallops_i__wallops_station_va/surface/hydrological/river/co/SRCO92_KWAL_231515_500560a56b37073c140d05a940584714.txt', 'integrity': {'method': 'md5', 'value': 'UAVgpWs3BzwUDQWpQFhHFA=='}, 'size': 157}\n",
      "message 3 data: b'SRCO92 KWAL 231515\\r\\r\\n\\x1e51571092 054151515bB1OAHFAHGAHFAHFAHFAHFAHFAHFAHFAHFAHHAHFAHFAHFAHFAHF@Ah@Ah@Ah@Ah@Ah@Ah@Ah@Ah@Ah@Ah@Ah@Ah@Ah@Ah@Ah@AhH 35-0NN 176W\\r\\r\\n\\x03'\n",
      "message 4 received: {'atime': '20220223T151531.123727322', 'mtime': '20220223T151531.123727322', 'mode': '664', 'pubTime': '20220223T151531.129268', 'baseUrl': 'http://localhost:8999/data/20220223T15', 'relPath': 'WIS/us/wallops_i__wallops_station_va/surface/hydrological/river/SRTX20_KWAL_231515_af28447d27b4ac662c156ab4ee0432f6.txt', 'integrity': {'method': 'md5', 'value': 'ryhEfSe0rGYsFWq07gQy9g=='}, 'size': 201}\n",
      "message 4 data: b'SRTX20 KWAL 231515\\r\\r\\n\\x1e17B26230 054151510\"\\r\\n1.23 4.73 \\r\\n1.23 4.73 \\r\\n1.21 4.73 \\r\\n1.21 4.73 \\r\\n1.20 4.73 \\r\\n1.19 4.73 \\r\\n1.19 4.73 \\r\\n1.18 4.73 \\r\\n1.17 4.73 \\r\\n1.18 4.73 \\r\\n1.17 4.73 \\r\\n1.17 4.73  47-0NN 112W\\r\\r\\n\\x03'\n",
      "message 5 received: {'atime': '20220223T151531.063726902', 'mtime': '20220223T151531.063726902', 'mode': '664', 'pubTime': '20220223T151531.065952', 'baseUrl': 'http://localhost:8999/data/20220223T15', 'relPath': 'WIS/us/wallops_i__wallops_station_va/surface/miscellaneous/us/SXAK50_KWAL_231515_d2527234f54c8f4e2378eeeb30f2b072.txt', 'integrity': {'method': 'md5', 'value': '0lJyNPVMj04jeO7rMPKwcg=='}, 'size': 180}\n",
      "message 5 data: b'SXAK50 KWAL 231515\\r\\r\\n\\x1eCD402BD6 054151510bB1A@tx@t{@tt@ty@tv@tz@tt@tx@tr@tv@tn@tq@te@th@t[@t^@tV@tY@tS@tW@tP@tS@tM@tP@tH@tK@tC@tE@s}@s~@ss@st@sj@sk@sa@sd@s]@sa@s]@sa 42-0NN  98W\\r\\r\\n\\x03'\n"
     ]
    },
    {
     "data": {
      "text/plain": [
       "7"
      ]
     },
     "execution_count": 5,
     "metadata": {},
     "output_type": "execute_result"
    }
   ],
   "source": [
    "client = mqtt.Client( client_id=clientId, protocol=mqtt.MQTTv5 )\n",
    "client.on_connect = sub_connect\n",
    "client.on_message = sub_message\n",
    "client.username_pw_set( user, password )\n",
    "client.connect( host )\n",
    "\n",
    "client.loop_forever()\n"
   ]
  },
  {
   "cell_type": "code",
   "execution_count": null,
   "id": "editorial-foster",
   "metadata": {},
   "outputs": [],
   "source": []
  }
 ],
 "metadata": {
  "kernelspec": {
   "display_name": "Python 3",
   "language": "python",
   "name": "python3"
  },
  "language_info": {
   "codemirror_mode": {
    "name": "ipython",
    "version": 3
   },
   "file_extension": ".py",
   "mimetype": "text/x-python",
   "name": "python",
   "nbconvert_exporter": "python",
   "pygments_lexer": "ipython3",
   "version": "3.8.10"
  }
 },
 "nbformat": 4,
 "nbformat_minor": 5
}
